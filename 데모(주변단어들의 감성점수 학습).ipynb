{
 "cells": [
  {
   "cell_type": "code",
   "execution_count": 21,
   "id": "58c01281",
   "metadata": {
    "scrolled": true
   },
   "outputs": [
    {
     "data": {
      "text/html": [
       "<div>\n",
       "<style scoped>\n",
       "    .dataframe tbody tr th:only-of-type {\n",
       "        vertical-align: middle;\n",
       "    }\n",
       "\n",
       "    .dataframe tbody tr th {\n",
       "        vertical-align: top;\n",
       "    }\n",
       "\n",
       "    .dataframe thead th {\n",
       "        text-align: right;\n",
       "    }\n",
       "</style>\n",
       "<table border=\"1\" class=\"dataframe\">\n",
       "  <thead>\n",
       "    <tr style=\"text-align: right;\">\n",
       "      <th></th>\n",
       "      <th>sentence</th>\n",
       "      <th>comment</th>\n",
       "      <th>score</th>\n",
       "      <th>ratio</th>\n",
       "    </tr>\n",
       "  </thead>\n",
       "  <tbody>\n",
       "    <tr>\n",
       "      <th>0</th>\n",
       "      <td>0.0</td>\n",
       "      <td>NaN</td>\n",
       "      <td>0.000000</td>\n",
       "      <td>0.00</td>\n",
       "    </tr>\n",
       "    <tr>\n",
       "      <th>1</th>\n",
       "      <td>NaN</td>\n",
       "      <td>NaN</td>\n",
       "      <td>-0.370520</td>\n",
       "      <td>-0.14</td>\n",
       "    </tr>\n",
       "    <tr>\n",
       "      <th>2</th>\n",
       "      <td>NaN</td>\n",
       "      <td>NaN</td>\n",
       "      <td>2.236831</td>\n",
       "      <td>0.93</td>\n",
       "    </tr>\n",
       "    <tr>\n",
       "      <th>3</th>\n",
       "      <td>NaN</td>\n",
       "      <td>NaN</td>\n",
       "      <td>-0.538165</td>\n",
       "      <td>-0.27</td>\n",
       "    </tr>\n",
       "    <tr>\n",
       "      <th>4</th>\n",
       "      <td>NaN</td>\n",
       "      <td>NaN</td>\n",
       "      <td>-0.254939</td>\n",
       "      <td>-0.14</td>\n",
       "    </tr>\n",
       "    <tr>\n",
       "      <th>...</th>\n",
       "      <td>...</td>\n",
       "      <td>...</td>\n",
       "      <td>...</td>\n",
       "      <td>...</td>\n",
       "    </tr>\n",
       "    <tr>\n",
       "      <th>2941</th>\n",
       "      <td>NaN</td>\n",
       "      <td>NaN</td>\n",
       "      <td>5.395163</td>\n",
       "      <td>2.05</td>\n",
       "    </tr>\n",
       "    <tr>\n",
       "      <th>2942</th>\n",
       "      <td>NaN</td>\n",
       "      <td>NaN</td>\n",
       "      <td>0.120637</td>\n",
       "      <td>0.12</td>\n",
       "    </tr>\n",
       "    <tr>\n",
       "      <th>2943</th>\n",
       "      <td>NaN</td>\n",
       "      <td>NaN</td>\n",
       "      <td>5.262832</td>\n",
       "      <td>2.18</td>\n",
       "    </tr>\n",
       "    <tr>\n",
       "      <th>2944</th>\n",
       "      <td>NaN</td>\n",
       "      <td>NaN</td>\n",
       "      <td>0.111873</td>\n",
       "      <td>0.08</td>\n",
       "    </tr>\n",
       "    <tr>\n",
       "      <th>2945</th>\n",
       "      <td>NaN</td>\n",
       "      <td>NaN</td>\n",
       "      <td>-0.558090</td>\n",
       "      <td>-0.31</td>\n",
       "    </tr>\n",
       "  </tbody>\n",
       "</table>\n",
       "<p>2946 rows × 4 columns</p>\n",
       "</div>"
      ],
      "text/plain": [
       "      sentence  comment     score  ratio\n",
       "0          0.0      NaN  0.000000   0.00\n",
       "1          NaN      NaN -0.370520  -0.14\n",
       "2          NaN      NaN  2.236831   0.93\n",
       "3          NaN      NaN -0.538165  -0.27\n",
       "4          NaN      NaN -0.254939  -0.14\n",
       "...        ...      ...       ...    ...\n",
       "2941       NaN      NaN  5.395163   2.05\n",
       "2942       NaN      NaN  0.120637   0.12\n",
       "2943       NaN      NaN  5.262832   2.18\n",
       "2944       NaN      NaN  0.111873   0.08\n",
       "2945       NaN      NaN -0.558090  -0.31\n",
       "\n",
       "[2946 rows x 4 columns]"
      ]
     },
     "execution_count": 21,
     "metadata": {},
     "output_type": "execute_result"
    }
   ],
   "source": [
    "import pandas as pd\n",
    "df = pd.read_csv('카카오리뷰감성점수.csv')\n",
    "df = df.apply(pd.to_numeric, errors='coerce')\n",
    "df0 = pd.read_csv('데모감성점수.csv')\n",
    "df0 = df0.apply(pd.to_numeric, errors='coerce')\n",
    "df1 = pd.read_csv('naver_kakao_matzip.csv')\n",
    "dm = df1[['kakao_review_list']]\n",
    "#dm = dm.dropna()\n",
    "dm = dm[dm['kakao_review_list'].isnull()]\n",
    "df"
   ]
  },
  {
   "cell_type": "code",
   "execution_count": 2,
   "id": "58841afb",
   "metadata": {},
   "outputs": [],
   "source": [
    "df.loc[df['ratio']>0, 'point'] = 1.00\n",
    "df.loc[df['ratio']==0, 'point'] = -1.00\n",
    "df.loc[df['ratio']<0, 'point'] = 0.01\n",
    "df.loc[df['sentence']>=0, 'point'] = 0.00\n",
    "df = df.drop([0], axis=0)\n",
    "df0.loc[df0['ratio']>0, 'point'] = 1.00\n",
    "df0.loc[df0['ratio']==0, 'point'] = -1.00\n",
    "df0.loc[df0['ratio']<0, 'point'] = 0.01\n",
    "df0.loc[df0['sentence']>=0, 'point'] = 0.00\n",
    "df0 = df0.drop([0], axis=0)\n"
   ]
  },
  {
   "cell_type": "code",
   "execution_count": 16,
   "id": "72751ca8",
   "metadata": {
    "scrolled": true
   },
   "outputs": [
    {
     "data": {
      "text/html": [
       "<div>\n",
       "<style scoped>\n",
       "    .dataframe tbody tr th:only-of-type {\n",
       "        vertical-align: middle;\n",
       "    }\n",
       "\n",
       "    .dataframe tbody tr th {\n",
       "        vertical-align: top;\n",
       "    }\n",
       "\n",
       "    .dataframe thead th {\n",
       "        text-align: right;\n",
       "    }\n",
       "</style>\n",
       "<table border=\"1\" class=\"dataframe\">\n",
       "  <thead>\n",
       "    <tr style=\"text-align: right;\">\n",
       "      <th></th>\n",
       "      <th>sentence</th>\n",
       "      <th>comment</th>\n",
       "      <th>score</th>\n",
       "      <th>ratio</th>\n",
       "      <th>point</th>\n",
       "    </tr>\n",
       "  </thead>\n",
       "  <tbody>\n",
       "    <tr>\n",
       "      <th>1</th>\n",
       "      <td>NaN</td>\n",
       "      <td>NaN</td>\n",
       "      <td>-0.370520</td>\n",
       "      <td>-0.14</td>\n",
       "      <td>0.01</td>\n",
       "    </tr>\n",
       "    <tr>\n",
       "      <th>2</th>\n",
       "      <td>NaN</td>\n",
       "      <td>NaN</td>\n",
       "      <td>2.236831</td>\n",
       "      <td>0.93</td>\n",
       "      <td>1.00</td>\n",
       "    </tr>\n",
       "    <tr>\n",
       "      <th>3</th>\n",
       "      <td>NaN</td>\n",
       "      <td>NaN</td>\n",
       "      <td>-0.538165</td>\n",
       "      <td>-0.27</td>\n",
       "      <td>0.01</td>\n",
       "    </tr>\n",
       "    <tr>\n",
       "      <th>4</th>\n",
       "      <td>NaN</td>\n",
       "      <td>NaN</td>\n",
       "      <td>-0.254939</td>\n",
       "      <td>-0.14</td>\n",
       "      <td>0.01</td>\n",
       "    </tr>\n",
       "    <tr>\n",
       "      <th>5</th>\n",
       "      <td>NaN</td>\n",
       "      <td>NaN</td>\n",
       "      <td>-3.523481</td>\n",
       "      <td>-1.24</td>\n",
       "      <td>0.01</td>\n",
       "    </tr>\n",
       "    <tr>\n",
       "      <th>...</th>\n",
       "      <td>...</td>\n",
       "      <td>...</td>\n",
       "      <td>...</td>\n",
       "      <td>...</td>\n",
       "      <td>...</td>\n",
       "    </tr>\n",
       "    <tr>\n",
       "      <th>2941</th>\n",
       "      <td>NaN</td>\n",
       "      <td>NaN</td>\n",
       "      <td>5.395163</td>\n",
       "      <td>2.05</td>\n",
       "      <td>1.00</td>\n",
       "    </tr>\n",
       "    <tr>\n",
       "      <th>2942</th>\n",
       "      <td>NaN</td>\n",
       "      <td>NaN</td>\n",
       "      <td>0.120637</td>\n",
       "      <td>0.12</td>\n",
       "      <td>1.00</td>\n",
       "    </tr>\n",
       "    <tr>\n",
       "      <th>2943</th>\n",
       "      <td>NaN</td>\n",
       "      <td>NaN</td>\n",
       "      <td>5.262832</td>\n",
       "      <td>2.18</td>\n",
       "      <td>1.00</td>\n",
       "    </tr>\n",
       "    <tr>\n",
       "      <th>2944</th>\n",
       "      <td>NaN</td>\n",
       "      <td>NaN</td>\n",
       "      <td>0.111873</td>\n",
       "      <td>0.08</td>\n",
       "      <td>1.00</td>\n",
       "    </tr>\n",
       "    <tr>\n",
       "      <th>2945</th>\n",
       "      <td>NaN</td>\n",
       "      <td>NaN</td>\n",
       "      <td>-0.558090</td>\n",
       "      <td>-0.31</td>\n",
       "      <td>0.01</td>\n",
       "    </tr>\n",
       "  </tbody>\n",
       "</table>\n",
       "<p>2945 rows × 5 columns</p>\n",
       "</div>"
      ],
      "text/plain": [
       "      sentence  comment     score  ratio  point\n",
       "1          NaN      NaN -0.370520  -0.14   0.01\n",
       "2          NaN      NaN  2.236831   0.93   1.00\n",
       "3          NaN      NaN -0.538165  -0.27   0.01\n",
       "4          NaN      NaN -0.254939  -0.14   0.01\n",
       "5          NaN      NaN -3.523481  -1.24   0.01\n",
       "...        ...      ...       ...    ...    ...\n",
       "2941       NaN      NaN  5.395163   2.05   1.00\n",
       "2942       NaN      NaN  0.120637   0.12   1.00\n",
       "2943       NaN      NaN  5.262832   2.18   1.00\n",
       "2944       NaN      NaN  0.111873   0.08   1.00\n",
       "2945       NaN      NaN -0.558090  -0.31   0.01\n",
       "\n",
       "[2945 rows x 5 columns]"
      ]
     },
     "execution_count": 16,
     "metadata": {},
     "output_type": "execute_result"
    }
   ],
   "source": [
    "df"
   ]
  },
  {
   "cell_type": "code",
   "execution_count": 4,
   "id": "99c1e989",
   "metadata": {},
   "outputs": [],
   "source": [
    "po = 0\n",
    "ne = 0\n",
    "pone_list=[]\n",
    "for i in df['point']:\n",
    "    if i==1.00 or i== -1.00:\n",
    "        po = po+1\n",
    "    elif i== 0.01:\n",
    "        ne = ne+1\n",
    "    elif i == 0.00:\n",
    "        a = round(po/(po+ne)*100,2)\n",
    "        pone_list.append(a)\n",
    "        po = 0\n",
    "        ne = 0\n",
    "        continue\n"
   ]
  },
  {
   "cell_type": "code",
   "execution_count": 5,
   "id": "f9665897",
   "metadata": {},
   "outputs": [],
   "source": [
    "#kakao\n",
    "po = 0\n",
    "ne = 0\n",
    "kakao_po_list=[]\n",
    "kakao_neg_list=[]\n",
    "for i in df['point']:\n",
    "    if i==1.00 or i== -1.00:\n",
    "        po = po+1\n",
    "    elif i== 0.01:\n",
    "        ne = ne+1\n",
    "    elif i == 0.00:\n",
    "        kakao_po_list.append(po)\n",
    "        kakao_neg_list.append(ne)\n",
    "        po = 0\n",
    "        ne = 0\n",
    "        continue\n"
   ]
  },
  {
   "cell_type": "code",
   "execution_count": 6,
   "id": "ea553843",
   "metadata": {},
   "outputs": [],
   "source": [
    "#naver\n",
    "po = 0\n",
    "ne = 0\n",
    "naver_po_list=[]\n",
    "naver_neg_list=[]\n",
    "for i in df['point']:\n",
    "    if i==1.00 or i== -1.00:\n",
    "        po = po+1\n",
    "    elif i== 0.01:\n",
    "        ne = ne+1\n",
    "    elif i == 0.00:\n",
    "        naver_po_list.append(po)\n",
    "        naver_neg_list.append(ne)\n",
    "        po = 0\n",
    "        ne = 0\n",
    "        continue\n"
   ]
  },
  {
   "cell_type": "code",
   "execution_count": 22,
   "id": "51fe2168",
   "metadata": {},
   "outputs": [
    {
     "data": {
      "text/plain": [
       "110"
      ]
     },
     "execution_count": 22,
     "metadata": {},
     "output_type": "execute_result"
    }
   ],
   "source": [
    "len(kakao_po_list)"
   ]
  },
  {
   "cell_type": "code",
   "execution_count": 15,
   "id": "0308864b",
   "metadata": {},
   "outputs": [
    {
     "data": {
      "text/plain": [
       "92"
      ]
     },
     "execution_count": 15,
     "metadata": {},
     "output_type": "execute_result"
    }
   ],
   "source": [
    "kakaonanlist =[3,5,6,7,8,11,18,21,23,25,26,29,30,33,34,35,36,37,38,39,40,41,42,43,51,52,54,55,56,57,61,62,63,66,67,69,70,72,74,78,79,80,85,86,91,92,93,94,95,96,99,103,111,113,114,116,117,120,122,127,130,131,132,135,136,137,139,146,148,153,154,155,157,158,162,164,166,176,177,183,184,185,186,187,188,190,192,193,195,197,198,199]\n",
    "len(kakaonanlist)"
   ]
  },
  {
   "cell_type": "code",
   "execution_count": null,
   "id": "40e249cc",
   "metadata": {},
   "outputs": [],
   "source": [
    "for i in kakaonanlist:\n",
    "    kakao_po_list.insert(i,0)\n",
    "    "
   ]
  },
  {
   "cell_type": "code",
   "execution_count": 7,
   "id": "f91963b1",
   "metadata": {},
   "outputs": [],
   "source": [
    "#82index가 nan값"
   ]
  },
  {
   "cell_type": "code",
   "execution_count": 8,
   "id": "1b35437b",
   "metadata": {},
   "outputs": [],
   "source": [
    "#pone_list.insert(82,0)"
   ]
  },
  {
   "cell_type": "code",
   "execution_count": 9,
   "id": "2af58291",
   "metadata": {},
   "outputs": [],
   "source": [
    "#len(pone_list)"
   ]
  },
  {
   "cell_type": "code",
   "execution_count": 10,
   "id": "24c8a410",
   "metadata": {},
   "outputs": [],
   "source": [
    "#po_rate = pd.DataFrame(pone_list, columns = ['pos_rev_Rate'])\n",
    "#po_rate"
   ]
  },
  {
   "cell_type": "code",
   "execution_count": 11,
   "id": "3aec0c24",
   "metadata": {},
   "outputs": [],
   "source": [
    "#df0 = pd.read_csv('naver_kakao_matzip.csv')\n",
    "#result = pd.concat([df0, po_rate], axis = 1)\n",
    "#result[81:86]"
   ]
  },
  {
   "cell_type": "code",
   "execution_count": 12,
   "id": "10f3129b",
   "metadata": {},
   "outputs": [],
   "source": [
    "#result.to_csv(\"kakao_naver_(리뷰분석추가).csv\",encoding='utf-8-sig' )"
   ]
  }
 ],
 "metadata": {
  "kernelspec": {
   "display_name": "Python 3 (ipykernel)",
   "language": "python",
   "name": "python3"
  },
  "language_info": {
   "codemirror_mode": {
    "name": "ipython",
    "version": 3
   },
   "file_extension": ".py",
   "mimetype": "text/x-python",
   "name": "python",
   "nbconvert_exporter": "python",
   "pygments_lexer": "ipython3",
   "version": "3.9.7"
  },
  "toc": {
   "base_numbering": 1,
   "nav_menu": {},
   "number_sections": true,
   "sideBar": true,
   "skip_h1_title": false,
   "title_cell": "Table of Contents",
   "title_sidebar": "Contents",
   "toc_cell": false,
   "toc_position": {},
   "toc_section_display": true,
   "toc_window_display": false
  },
  "varInspector": {
   "cols": {
    "lenName": 16,
    "lenType": 16,
    "lenVar": 40
   },
   "kernels_config": {
    "python": {
     "delete_cmd_postfix": "",
     "delete_cmd_prefix": "del ",
     "library": "var_list.py",
     "varRefreshCmd": "print(var_dic_list())"
    },
    "r": {
     "delete_cmd_postfix": ") ",
     "delete_cmd_prefix": "rm(",
     "library": "var_list.r",
     "varRefreshCmd": "cat(var_dic_list()) "
    }
   },
   "types_to_exclude": [
    "module",
    "function",
    "builtin_function_or_method",
    "instance",
    "_Feature"
   ],
   "window_display": false
  }
 },
 "nbformat": 4,
 "nbformat_minor": 5
}
